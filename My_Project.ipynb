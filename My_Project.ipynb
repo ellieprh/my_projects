{
  "nbformat": 4,
  "nbformat_minor": 0,
  "metadata": {
    "colab": {
      "name": "My_Project.ipynb",
      "provenance": []
    },
    "kernelspec": {
      "name": "python3",
      "display_name": "Python 3"
    }
  },
  "cells": [
    {
      "cell_type": "code",
      "metadata": {
        "id": "htMEKJlwRbqM"
      },
      "source": [
        "import math"
      ],
      "execution_count": 1,
      "outputs": []
    },
    {
      "cell_type": "code",
      "metadata": {
        "id": "iD2KcWp1JxMd"
      },
      "source": [
        "class Area_perimeter_calc():\n",
        "    \n",
        "  def __init__(self, length, width, height):\n",
        "    self.length = length\n",
        "    self.width = width\n",
        "    self.height = height\n",
        "\n",
        "  def square(self):\n",
        "    area_s = self.side ** 2\n",
        "    perimeter_s = self.length * 4\n",
        "    return perimeter_s, area_s \n",
        "    \n",
        "  def rectangle(self):\n",
        "    area_r = self.length * self.width \n",
        "    perimeter_r = (self.length * 2) + (self.width * 2)\n",
        "    return area_r, perimeter_r \n",
        "\n",
        "  def cube(self):\n",
        "    volume_c = self.length ** 3\n",
        "    surface_area_c = (self.length **2) * 6\n",
        "    return volume_c, surface_area_c \n",
        "\n",
        "  def rect_prism(self):\n",
        "    volume_r = self.length * self.height * self.width\n",
        "    surface_area_r = 2 * (length * width + length * height + height * width)\n",
        "    return volume_r, surface_area_r \n",
        "\n",
        "  def parallelogram(self):\n",
        "    area_p = self.length * self.height\n",
        "    perimeter_p = (self.length * 2) + (self.width * 2)\n",
        "  \n",
        "  def rect_pryramid(self):\n",
        "    volume_rp = (self.length * self.height * self.width) / 3\n",
        "    "
      ],
      "execution_count": 9,
      "outputs": []
    },
    {
      "cell_type": "code",
      "metadata": {
        "id": "tZDRNOrFK1Dd"
      },
      "source": [
        "class Triangle():  \n",
        "  def __init__(self, height, base, side1=0, side2=0):\n",
        "    self.height = height\n",
        "    self.base = base\n",
        "  \n",
        "  def area_triangle(self):\n",
        "    area_t = self.height * self.base * 0.5\n",
        "    return f'the area is {area_t}'\n",
        "\n",
        "  \n"
      ],
      "execution_count": 4,
      "outputs": []
    },
    {
      "cell_type": "code",
      "metadata": {
        "id": "aVPho6mLK2Ao",
        "outputId": "ae923389-3fe4-4f36-fcd8-7c2ec1f8a16b",
        "colab": {
          "base_uri": "https://localhost:8080/",
          "height": 34
        }
      },
      "source": [
        "f1 = Theorem(5, 6)\n",
        "print(f1.pythag_theorem())"
      ],
      "execution_count": 5,
      "outputs": [
        {
          "output_type": "stream",
          "text": [
            "41.0\n"
          ],
          "name": "stdout"
        }
      ]
    },
    {
      "cell_type": "code",
      "metadata": {
        "id": "MRiLueE_L0io"
      },
      "source": [
        "class circle_stuff():\n",
        "  def __init__(self, radius, height): \n",
        "    self.height = height\n",
        "    self.radius = radius\n",
        "  \n",
        "  def circle(self):\n",
        "    import numpy as np\n",
        "    area_c = (self.radius ** 2) * np.pi\n",
        "    circumfrence_c = self.radius*2 * np.pi\n",
        "    return area_c, circumfrence_c\n",
        "\n",
        "  def right_circular_cylindar(self):\n",
        "    volume_rcc = np.pi * self.radius**2 * self.height\n",
        "    surface_area_rrc = 2 * np.pi * self.radius * self.heigh + 2* np.pi \n",
        "    \n",
        "\n",
        "    \n"
      ],
      "execution_count": 6,
      "outputs": []
    },
    {
      "cell_type": "code",
      "metadata": {
        "id": "OcVpxbyLXNI7",
        "outputId": "f1a81b40-9e00-4bc6-ddb1-650d0e378dc6",
        "colab": {
          "base_uri": "https://localhost:8080/",
          "height": 34
        }
      },
      "source": [
        "f1 = pi(3, 5)\n",
        "print(f1.circle())"
      ],
      "execution_count": 7,
      "outputs": [
        {
          "output_type": "stream",
          "text": [
            "(28.274333882308138, 18.84955592153876)\n"
          ],
          "name": "stdout"
        }
      ]
    },
    {
      "cell_type": "code",
      "metadata": {
        "id": "AdkaeGi6011I"
      },
      "source": [
        ""
      ],
      "execution_count": 7,
      "outputs": []
    }
  ]
}